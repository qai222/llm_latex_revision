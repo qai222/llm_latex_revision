{
 "cells": [
  {
   "metadata": {},
   "cell_type": "markdown",
   "source": [
    "First we need to create a data folder looks like this, `cwc` is the writing style that you want to convert to.\n",
    "```\n",
    "- data/         # main data folder\n",
    "    - raw/\n",
    "        - cwc/  # contains tex files in the desired writing style\n",
    "    - tos/      # contains generated data from `LLM-large` to be used in fine tuning\n",
    "        - cwc/\n",
    "            - responses/\n",
    "            - translations/\n",
    "```\n"
   ],
   "id": "663eedf611bd86ad"
  },
  {
   "metadata": {},
   "cell_type": "code",
   "source": [
    "import os\n",
    "import pathlib\n",
    "\n",
    "TARGET_WRITING_STYLE = \"cwc\"\n",
    "MAIN_DATA_FOLDER = os.path.abspath(\"data\")\n",
    "TEX_FILE_FOLDER = os.path.join(MAIN_DATA_FOLDER, \"raw\", TARGET_WRITING_STYLE)\n",
    "TOS_FOLDER = os.path.join(MAIN_DATA_FOLDER, \"tos\", TARGET_WRITING_STYLE)\n",
    "TOS_RESPONSES_FOLDER = os.path.join(TOS_FOLDER, \"responses\")\n",
    "TOS_TRANSLATIONS_FOLDER = os.path.join(TOS_FOLDER, \"translations\")\n",
    "\n",
    "for p in [TEX_FILE_FOLDER, TOS_RESPONSES_FOLDER, TOS_TRANSLATIONS_FOLDER]:\n",
    "    pathlib.Path(p).mkdir(parents=True, exist_ok=True)\n"
   ],
   "id": "ade82b7746b6fe15",
   "outputs": [],
   "execution_count": null
  },
  {
   "metadata": {},
   "cell_type": "markdown",
   "source": [
    "**step 1**: Split your already published `.tex` files (written in the `target style`) to individual `segments`.\n"
   ],
   "id": "4a7948e4142dd021"
  },
  {
   "metadata": {},
   "cell_type": "code",
   "source": [
    "import glob\n",
    "from tqdm import tqdm\n",
    "from llm_latex_revision.utils import split_tex, json_dump, json_load\n",
    "\n",
    "TARGET_SEGMENTS = []\n",
    "for tex_file in tqdm(sorted(glob.glob(os.path.join(TEX_FILE_FOLDER, \"*.tex\")))):\n",
    "    TARGET_SEGMENTS += split_tex(tex_file)\n",
    "json_dump([s.model_dump() for s in TARGET_SEGMENTS], os.path.join(TOS_FOLDER, \"segments.json\"))"
   ],
   "id": "3ad705f5e66768f9",
   "outputs": [],
   "execution_count": null
  },
  {
   "metadata": {},
   "cell_type": "markdown",
   "source": [
    "**step 2**: Use a pretrained LLM (`LLM-large`) to rewrite the `segments` from `step 1` to `segments-rewritten` in different writing styles (`source styles`).\n",
    "First download and install ollama, then run \n",
    "```\n",
    "ollama pull llama3.1:70b-instruct-q6_K  # this works on 3x24GB gpu node\n",
    "ollama serve  # opens the ollama API\n",
    "```\n",
    "Then use the following script to generate target-to-soruce style translations.\n"
   ],
   "id": "1a4f2346ca1ead8"
  },
  {
   "metadata": {},
   "cell_type": "code",
   "source": [
    "from llm_latex_revision.schema import TargetToSourceStyleTranslation\n",
    "from llm_latex_revision.templates import TOS_PROMPT_TEMPLATES\n",
    "\n",
    "if not TARGET_SEGMENTS:\n",
    "    TARGET_SEGMENTS = json_load(os.path.join(TOS_FOLDER, \"segments.json\"))\n",
    "\n",
    "TOS_REPEAT = 1  # num of repeat for a source writing style\n",
    "\n",
    "for segment in tqdm(TARGET_SEGMENTS, desc=\"translate segments\"):\n",
    "    for pt in TOS_PROMPT_TEMPLATES:\n",
    "        for rng_seed in range(TOS_REPEAT):\n",
    "            translation = TargetToSourceStyleTranslation.from_target_segment(\n",
    "                prompt_template=pt,\n",
    "                target_segment=segment,\n",
    "                translation_model_name=\"llama3.1:70b-instruct-q6_K\",\n",
    "                seed=rng_seed + 42,\n",
    "                prompt_including_complete=False,\n",
    "                data_path=MAIN_DATA_FOLDER,\n",
    "            )\n",
    "            translation.run_translation(dump=True, data_path=MAIN_DATA_FOLDER, )\n"
   ],
   "id": "c2ef4fb33fbd802f",
   "outputs": [],
   "execution_count": null
  },
  {
   "metadata": {},
   "cell_type": "markdown",
   "source": [
    "**step 3**: Use `segments-rewritten` and `segments` as prompt and completion, respectively, to fine-tune another pretrained LLM (`LLM-small`).\n"
   ],
   "id": "a5faceb6c51a2c2f"
  },
  {
   "metadata": {},
   "cell_type": "code",
   "source": [
    "# prepare finetune data to be used in llama factory\n",
    "from transformers import AutoTokenizer\n",
    "from llm_latex_revision.finetune_lf import LFdata\n",
    "\n",
    "tokenizer = AutoTokenizer.from_pretrained(pretrained_model_name_or_path='Qwen/Qwen2.5-7B-Instruct',\n",
    "                                          trust_remote_code=True)\n",
    "LFdata.prepare_finetune_data(\n",
    "    output_folder=MAIN_DATA_FOLDER,\n",
    "    translation_folder=TOS_TRANSLATIONS_FOLDER,\n",
    "    target_writing_style=TARGET_WRITING_STYLE,\n",
    "    tokenizer=tokenizer,\n",
    "    cutoff=4096\n",
    ")\n"
   ],
   "id": "d3295df7fca5e0cd",
   "outputs": [],
   "execution_count": null
  },
  {
   "metadata": {},
   "cell_type": "markdown",
   "source": [
    "Finetune QWen2.5 in LLaMA-factory:\n",
    "1. install https://github.com/hiyouga/LLaMA-Factory\n",
    "2. install deepspeed\n",
    "    - note you need to make sure your torch is compiled against the same CUDA version you have, you can use \n",
    "        `conda install -c nvidia/label/cuda-12.4 cuda-toolkit` to override existing CUDA installation\n",
    "3. run lora finetune using \n",
    "    `FORCE_TORCHRUN=1 CUDA_VISIBLE_DEVICES=1,2,3 llamafactory-cli train qwen2-7b-lora-sft-deepspeed.yaml`\n",
    "4. merge lora with the base model `llamafactory-cli export merge.yaml`, this will by default save the merged model at\n",
    "    `models/qwen2.5_lora_sft` \n"
   ],
   "id": "f1b4ec51e90cf9ab"
  },
  {
   "metadata": {},
   "cell_type": "markdown",
   "source": [
    "**step 4**: Use the fine-tuned `LLM-small` to rewrite `.tex` file.\n",
    "1. Start an OPENAI API instance thru llama factory using\n",
    "    `API_PORT=8123 CUDA_VISIBLE_DEVICES=0 llamafactory-cli api inference.yaml`\n",
    "2. Use the following code to rewrite a tex file \n"
   ],
   "id": "9400f855e5aa2157"
  },
  {
   "metadata": {},
   "cell_type": "code",
   "source": [
    "from openai import OpenAI\n",
    "from llm_latex_revision.finetune_lf import LFdata\n",
    "from llm_latex_revision.utils import split_tex\n",
    "\n",
    "client = OpenAI(api_key=\"0\",base_url=\"http://0.0.0.0:8123/v1\")\n",
    "\n",
    "existing_tex_file = \"test.tex\"\n",
    "\n",
    "segments = split_tex(existing_tex_file)\n",
    "\n",
    "for segment in segments:\n",
    "    if segment.type == 'section':\n",
    "        prompt = LFdata.tex2prompt(segment.text)\n",
    "        messages = [{\"role\": \"user\", \"content\": prompt}]\n",
    "        result = client.chat.completions.create(\n",
    "            messages=messages, model=\"models/qwen2.5_lora_sft\",\n",
    "            max_tokens=4096, temperature=0,\n",
    "        )\n",
    "        rewritten = result.choices[0].message.content.strip()\n",
    "        if rewritten.startswith(\"```\"):\n",
    "            rewritten = rewritten[3:]\n",
    "        if rewritten.endswith(\"```\"):\n",
    "            rewritten = rewritten[:-3]\n",
    "        with open(f\"test_rewritten_seg_{segment.index}.tex\", \"w\") as f:\n",
    "            f.write(rewritten)\n"
   ],
   "id": "ae02e33379453c45",
   "outputs": [],
   "execution_count": null
  }
 ],
 "metadata": {
  "kernelspec": {
   "display_name": "Python 3",
   "language": "python",
   "name": "python3"
  },
  "language_info": {
   "codemirror_mode": {
    "name": "ipython",
    "version": 2
   },
   "file_extension": ".py",
   "mimetype": "text/x-python",
   "name": "python",
   "nbconvert_exporter": "python",
   "pygments_lexer": "ipython2",
   "version": "2.7.6"
  }
 },
 "nbformat": 4,
 "nbformat_minor": 5
}
